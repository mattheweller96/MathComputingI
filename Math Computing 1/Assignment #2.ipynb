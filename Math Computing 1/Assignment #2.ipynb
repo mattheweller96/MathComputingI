{
 "cells": [
  {
   "cell_type": "markdown",
   "metadata": {},
   "source": [
    "# Homework 2\n",
    "## Matthew Eller\n",
    "## Time (hours): 5"
   ]
  },
  {
   "cell_type": "markdown",
   "metadata": {},
   "source": [
    "### 2.21 Write a program to generate the following arithmetic examples."
   ]
  },
  {
   "cell_type": "markdown",
   "metadata": {},
   "source": [
    "#### Example 1"
   ]
  },
  {
   "cell_type": "code",
   "execution_count": 64,
   "metadata": {},
   "outputs": [
    {
     "name": "stdout",
     "output_type": "stream",
     "text": [
      "1 * 8 + 1 = 9\n",
      "12 * 8 + 2 = 98\n",
      "123 * 8 + 3 = 987\n",
      "1234 * 8 + 4 = 9876\n",
      "12345 * 8 + 5 = 98765\n",
      "123456 * 8 + 6 = 987654\n",
      "1234567 * 8 + 7 = 9876543\n",
      "12345678 * 8 + 8 = 98765432\n",
      "123456789 * 8 + 9 = 987654321\n"
     ]
    }
   ],
   "source": [
    "#### In this case, we shall start at 1 and iterate until we reach 9.\n",
    "\n",
    "row=1\n",
    "a=\"\"\n",
    "for n in range(1,10):\n",
    "    a=a+str(n)                ### create a new variable a that includes the string of n for n in (1,10)\n",
    "    print(a,\"* 8 +\", row, end=\"\")    ### prints left hand side of desired equation\n",
    "    ans=int(a)*8+row               ### converts a into integer and is manipulated to yield right hand side of equation\n",
    "    print(\" =\", ans)\n",
    "    row+=1                          ### cycles again to repeat above process"
   ]
  },
  {
   "cell_type": "markdown",
   "metadata": {},
   "source": [
    "#### Example 2"
   ]
  },
  {
   "cell_type": "code",
   "execution_count": 63,
   "metadata": {
    "scrolled": true
   },
   "outputs": [
    {
     "name": "stdout",
     "output_type": "stream",
     "text": [
      "1 * 9 + 2 = 11\n",
      "12 * 9 + 3 = 111\n",
      "123 * 9 + 4 = 1111\n",
      "1234 * 9 + 5 = 11111\n",
      "12345 * 9 + 6 = 111111\n",
      "123456 * 9 + 7 = 1111111\n",
      "1234567 * 9 + 8 = 11111111\n",
      "12345678 * 9 + 9 = 111111111\n",
      "123456789 * 9 + 10 = 1111111111\n"
     ]
    }
   ],
   "source": [
    "row=1\n",
    "a=\"\"\n",
    "for n in range(1,10):\n",
    "    a=a+str(n)               ### create a new variable a that includes the string of n for n in (1,10)\n",
    "    print(a,\"* 9 +\", row+1, end=\"\") ### prints left hand side of desired equation\n",
    "    ans=int(a)*9+row+1       ### converts a into integer and is manipulated to yield right hand side of equation\n",
    "    print(\" =\", ans)\n",
    "    row+=1                   ### cycles again to repeat above process"
   ]
  },
  {
   "cell_type": "markdown",
   "metadata": {},
   "source": [
    "#### Example 3"
   ]
  },
  {
   "cell_type": "code",
   "execution_count": 61,
   "metadata": {},
   "outputs": [
    {
     "name": "stdout",
     "output_type": "stream",
     "text": [
      "9 * 9 + 7 = 88\n",
      "98 * 9 + 6 = 888\n",
      "987 * 9 + 5 = 8888\n",
      "9876 * 9 + 4 = 88888\n",
      "98765 * 9 + 3 = 888888\n",
      "987654 * 9 + 2 = 8888888\n",
      "9876543 * 9 + 1 = 88888888\n",
      "98765432 * 9 + 0 = 888888888\n"
     ]
    }
   ],
   "source": [
    "row=7\n",
    "a=\"\"\n",
    "for n in range(9,1,-1):  ### create a new variable a that includes the string of n for n in (9,1) with decreasing steps of -1\n",
    "    a=a+str(n)\n",
    "    print(a,\"* 9 +\", row, end=\"\")  ### prints left hand side of desired equation\n",
    "    ans=int(a)*9+row    ### converts a into integer and is manipulated to yield right hand side of equation\n",
    "    print(\" =\", ans)\n",
    "    row-=1       ### cycles again, this time reducing row size by one upon each iteration"
   ]
  },
  {
   "cell_type": "markdown",
   "metadata": {},
   "source": [
    "#### Example 4"
   ]
  },
  {
   "cell_type": "code",
   "execution_count": 13,
   "metadata": {},
   "outputs": [
    {
     "name": "stdout",
     "output_type": "stream",
     "text": [
      "11 * 11 = 121\n",
      "111 * 111 = 12321\n",
      "1111 * 1111 = 1234321\n",
      "11111 * 11111 = 123454321\n",
      "111111 * 111111 = 12345654321\n",
      "1111111 * 1111111 = 1234567654321\n",
      "11111111 * 11111111 = 123456787654321\n",
      "111111111 * 111111111 = 12345678987654321\n"
     ]
    }
   ],
   "source": [
    "row=1\n",
    "a=\"\"\n",
    "for n in range(1,9):\n",
    "    a=a+str(n)\n",
    "   \n",
    "    ans=int(a)*9+row+1 ### uses similar reasoning to generate term on left hand side of expression\n",
    "    print(ans,\"*\", ans, end=\"\") ### prints the left hand side of the desired equation\n",
    "    print(\" =\", ans*ans)  ### prints the square of the term used above\n",
    "    \n",
    "    row+=1        ### updates row value to continue cycle"
   ]
  },
  {
   "cell_type": "markdown",
   "metadata": {},
   "source": [
    "#### Project 2.2"
   ]
  },
  {
   "cell_type": "markdown",
   "metadata": {},
   "source": [
    "#### Given a sheet of paper 1/200 cm thick, how thick would the stack be after folding 30 times?\n",
    "#### Write a program that prompts for number of folds and outputs the thickness in meters."
   ]
  },
  {
   "cell_type": "code",
   "execution_count": 86,
   "metadata": {},
   "outputs": [
    {
     "name": "stdout",
     "output_type": "stream",
     "text": [
      "Enter how many times you wish to fold the paper: 30\n",
      "Folding the paper 30 times, our final thickness is  53687.0912 meters.\n"
     ]
    }
   ],
   "source": [
    "#### Given a paper of thickness 1/200 cm, one fold doubles the thickness.\n",
    "\n",
    "fold_str=input(\"Enter how many times you wish to fold the paper: \")\n",
    "fold_int=int(fold_str)\n",
    "\n",
    "thicc=(2**fold_int)*(1/200)*0.01   ### expresses the thickness as a function in terms of number of folds\n",
    "print(\"Folding the paper\", fold_int, \"times, our final thickness is \", thicc, \"meters.\")\n",
    "\n",
    "#### For 30 folds, the folded page is found to be 53687.0912 meters thick."
   ]
  },
  {
   "cell_type": "markdown",
   "metadata": {},
   "source": [
    "### Canvas problem 1\n",
    "\n",
    "#### Write a program that prompts you to input a positive decimal number (base 10), and returns a binary number (base 2) that is equal to the input."
   ]
  },
  {
   "cell_type": "code",
   "execution_count": 87,
   "metadata": {},
   "outputs": [
    {
     "name": "stdout",
     "output_type": "stream",
     "text": [
      "Enter a positive decimal number500\n",
      "The number 500 in base 10 is equal to 0b111110100 in base 2.\n"
     ]
    }
   ],
   "source": [
    "import math\n",
    "\n",
    "g_str = input(\"Enter a positive decimal number\")\n",
    "g_int = int(g_str)    ### converts user input into integer value\n",
    "\n",
    "## The user is prompted to input a positive decimal number.\n",
    "\n",
    "g_binary = bin(g_int) ### The bin function converts the integer input into its binary equivalent. \n",
    "\n",
    "print(\"The number\", g_int, \"in base 10 is equal to\", g_binary, \"in base 2.\")"
   ]
  },
  {
   "cell_type": "markdown",
   "metadata": {},
   "source": [
    "### Canvas problem 2\n",
    "#### Write a program that uses the quadratic formula to generate the roots of a specific quadratic equation.\n",
    "#### Input the quadratic coefficients.\n",
    "#### If roots aren't real, state condition. If real, display both roots or display repeated root once."
   ]
  },
  {
   "cell_type": "code",
   "execution_count": 8,
   "metadata": {},
   "outputs": [
    {
     "name": "stdout",
     "output_type": "stream",
     "text": [
      "Enter the leading coefficient of second degree monomial: 1\n",
      "Enter the leading coefficient of first degree monomial: 5\n",
      "Enter the leading coefficient of zeroth degree monomial: 1\n",
      "You have two real roots. Your roots are  -0.20871215252208009 and  -4.7912878474779195\n"
     ]
    }
   ],
   "source": [
    "import math\n",
    "\n",
    "### first, we need the coefficients of the quadratic. Prompt the user for said coefficients and convert to floating point.\n",
    "\n",
    "a_str=input(\"Enter the leading coefficient of second degree monomial: \")\n",
    "a_flt=float(a_str)\n",
    "\n",
    "b_str=input(\"Enter the leading coefficient of first degree monomial: \")\n",
    "b_flt=float(b_str)\n",
    "\n",
    "c_str=input(\"Enter the leading coefficient of zeroth degree monomial: \")\n",
    "c_flt=float(c_str)\n",
    "\n",
    "### define the discrimant. Also define roots for special cases of discriminant values.\n",
    "\n",
    "dis= (b_flt**2) - (4*a_flt*c_flt)\n",
    "oneroot= -b_flt/(2*a_flt)\n",
    "bigroot=(-b_flt+dis**0.5)/(2*a_flt)\n",
    "lilroot=(-b_flt-dis**0.5)/(2*a_flt)\n",
    "\n",
    "### use if statements to discard complex roots and state real roots of the input quadratic.\n",
    "\n",
    "if dis<0:\n",
    "    print(\"No real roots :c\")\n",
    "if dis==0:\n",
    "    print(\"You have one real root which is: \", oneroot)\n",
    "if dis>0:\n",
    "    print(\"You have two real roots. Your roots are \", bigroot, \"and \", lilroot)"
   ]
  },
  {
   "cell_type": "code",
   "execution_count": null,
   "metadata": {},
   "outputs": [],
   "source": []
  }
 ],
 "metadata": {
  "kernelspec": {
   "display_name": "Python 3",
   "language": "python",
   "name": "python3"
  },
  "language_info": {
   "codemirror_mode": {
    "name": "ipython",
    "version": 3
   },
   "file_extension": ".py",
   "mimetype": "text/x-python",
   "name": "python",
   "nbconvert_exporter": "python",
   "pygments_lexer": "ipython3",
   "version": "3.6.5"
  }
 },
 "nbformat": 4,
 "nbformat_minor": 2
}
