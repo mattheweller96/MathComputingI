{
 "cells": [
  {
   "cell_type": "markdown",
   "metadata": {},
   "source": [
    "# Homework 3\n",
    "## Matthew Eller\n",
    "## Collaborator: Maggie Reed\n",
    "## Time (hours): 6"
   ]
  },
  {
   "cell_type": "markdown",
   "metadata": {},
   "source": [
    "#### Write a program that allows you to play rock, paper, scissors against the computer. Import the random module to select the computer's choice."
   ]
  },
  {
   "cell_type": "code",
   "execution_count": 5,
   "metadata": {},
   "outputs": [
    {
     "name": "stdout",
     "output_type": "stream",
     "text": [
      "Rock, Paper, Scissors: Computer Edition!\n",
      "\n",
      "Choose between Rock, Paper, and Scissors to Defeat the super AI!\n",
      "\n",
      "Rock, Paper, Scissors, shoot! Type your answer: Scissors\n",
      "You lost! The computer chose Rock.\n"
     ]
    }
   ],
   "source": [
    "#Import the random module\n",
    "import random\n",
    "\n",
    "#Title cards for game title and rules\n",
    "print(\"Rock, Paper, Scissors: Computer Edition!\")\n",
    "print()\n",
    "print(\"Choose between Rock, Paper, and Scissors to Defeat the super AI!\")\n",
    "print()\n",
    "\n",
    "#prompt for user input\n",
    "a=input(\"Rock, Paper, Scissors, shoot! Type your answer: \")\n",
    "\n",
    "#convert user input to string\n",
    "user_choice=str(a)\n",
    "\n",
    "#denote set of items from which computer to choose from for random choice\n",
    "item=[\"Rock\",\"Paper\",\"Scissors\"]\n",
    "\n",
    "#denote the computer's choice as a random choice from the item set such that the computer can play along\n",
    "robo_choice=random.choice(item)\n",
    "\n",
    "\n",
    "#comparing user input to the computer's input\n",
    "\n",
    "#print outcome in case of tie\n",
    "if user_choice==robo_choice:\n",
    "      print(\"You tied with the computer! You both chose \", user_choice)\n",
    "      \n",
    "#print outcomes in case of winner/lose dichotomy\n",
    "#compare case when user_choice does not equal robo_choice\n",
    "#use standard rules of game to print winner of the match\n",
    "\n",
    "elif user_choice=='Rock':\n",
    "      if robo_choice=='Paper':\n",
    "          print(\"You lost! The computer chose Paper.\")\n",
    "      elif robo_choice=='Scissors':\n",
    "          print(\"You won! The computer chose Scissors.\")\n",
    "\n",
    "elif user_choice=='Paper':\n",
    "      if robo_choice=='Rock':\n",
    "          print(\"You won! The computer chose Rock.\")\n",
    "      elif robo_choice=='Scissors':\n",
    "          print(\"You lost! The computer chose Scissors.\")\n",
    "      \n",
    "elif user_choice=='Scissors':\n",
    "      if robo_choice=='Paper':\n",
    "          print(\"You win! The computer chose Paper.\")\n",
    "      elif robo_choice=='Rock':\n",
    "          print(\"You lost! The computer chose Rock.\")\n"
   ]
  },
  {
   "cell_type": "markdown",
   "metadata": {},
   "source": [
    "#### Project 4: Weird multiplication"
   ]
  },
  {
   "cell_type": "code",
   "execution_count": 12,
   "metadata": {},
   "outputs": [
    {
     "name": "stdout",
     "output_type": "stream",
     "text": [
      "Would you like to use the Russian Peasant multiplication calculator? Type y for yes and n for no: y\n",
      "Please enter your first integer to multiply: 69\n",
      "Please enter your second integer you wish to multiply with: 420\n",
      "The product between  69 and  420 is:  28980\n",
      "Would you like to use the Russian Peasant multiplication calculator? Type y for yes and n for no: y\n",
      "Please enter your first integer to multiply: 420\n",
      "Please enter your second integer you wish to multiply with: 69\n",
      "The product between  420 and  69 is:  28980\n",
      "Would you like to use the Russian Peasant multiplication calculator? Type y for yes and n for no: n\n",
      "Goodbye, or as they say in Russia, Прощай\n"
     ]
    }
   ],
   "source": [
    "### Create rough sketch of algorithm\n",
    "### Let A and B be two integers we wish to multiply\n",
    "### Multiply A by 2\n",
    "### Divide B by 2 until B//2==0\n",
    "### If B is odd, then add the corresponding A value to our generating product\n",
    "### Once B cannot be divided further, i.e. remainder is one or zero, stop\n",
    "### Product between A and B equals the sum of A values that had corresponding odd B values\n",
    "\n",
    "\n",
    "# ask user if they wish to use the weird multiplication calculator\n",
    "start=str(input(\"Would you like to use the Russian Peasant multiplication calculator? Type y for yes and n for no: \"))\n",
    "\n",
    "# convert user input to strings\n",
    "y=str(\"y\")\n",
    "n=str(\"n\")\n",
    "\n",
    "\n",
    "# if user wants to multiply, continue in while loop\n",
    "while start==y:\n",
    "    # prompt user for integers to multiply\n",
    "    a=int(input(\"Please enter your first integer to multiply: \"))\n",
    "    b=int(input(\"Please enter your second integer you wish to multiply with: \"))\n",
    "    \n",
    "    #create a static reference for the initial inputs; a and b will be updated according to the Russian Peasant method\n",
    "    quotient_a=a\n",
    "    quotient_b=b\n",
    "    \n",
    "    # initialize product by starting at zero\n",
    "    initial_product=0\n",
    "    \n",
    "    # create while loop to continually update a and b values and resulting product\n",
    "    # consider while loop when b is nonzero, otherwise will print initial product equal to zero \n",
    "    while b!=0:\n",
    "        # step showing when b(modulo2)=1\n",
    "        if (b%2 !=0):\n",
    "            # add the current a value to the product\n",
    "            initial_product=initial_product+a\n",
    "            # update our values for a and b; double a and the floor division of b by 2\n",
    "            a=a*2\n",
    "            b=b//2\n",
    "        if (b%2 ==0):\n",
    "            # similar approach as above except product value is not updated\n",
    "            a=a*2\n",
    "            b=b//2\n",
    "    # once b=0, print the current product; this is a*b done the Russian Peasant way\n",
    "    print(\"The product between \", quotient_a, \"and \", quotient_b, \"is: \", initial_product)\n",
    "    \n",
    "    # ask user if they wish to compute more products the Russian Peasant way\n",
    "    start=str(input(\"Would you like to use the Russian Peasant multiplication calculator? Type y for yes and n for no: \"))\n",
    "    \n",
    "    # continue back through the program if the user wishes to find more products; if not, leave\n",
    "    continue\n",
    "\n",
    "# when the user doesn't want any more products computed, say goodbye\n",
    "if start==n:\n",
    "    print(\"Goodbye, or as they say in Russia, Прощай\")"
   ]
  },
  {
   "cell_type": "markdown",
   "metadata": {},
   "source": [
    "#### Approximating exp(-x) as a truncated sum"
   ]
  },
  {
   "cell_type": "code",
   "execution_count": 17,
   "metadata": {},
   "outputs": [
    {
     "name": "stdout",
     "output_type": "stream",
     "text": [
      "Input a value of x for which you wish to evaluate exp(-x): 1\n",
      "Enter a natural number where you wish to truncate the infinite sum to approxiate exp(-x): 100\n",
      "Truncating the series to  100 terms, your approximation to exp[ 1.0 ] is found to be  0.36787944117144245\n"
     ]
    }
   ],
   "source": [
    "# import math module (will be used to compute a factorial)\n",
    "import math\n",
    "\n",
    "# prompt user for x-value in exp[-x] and then convert to float\n",
    "x_input=float(input(\"Input a value of x for which you wish to evaluate exp(-x): \"))\n",
    "\n",
    "# prompt user for natural number N in which truncate the infinite sum at, convert input to integer\n",
    "N_trunc=int(input(\"Enter a natural number where you wish to truncate the infinite sum to approxiate exp(-x): \"))\n",
    "\n",
    "# denote our sum's index k at 0\n",
    "k=int(0)\n",
    "\n",
    "# denote our current sum's total when index is less than N\n",
    "updated_sum=0\n",
    "\n",
    "\n",
    "# use a while loop to judge index against truncation value\n",
    "while k<N_trunc:\n",
    "        # denote formula used in the infinite sum representation of exp[-x], noting the use of math.factorial for the factorial\n",
    "        summ=((-1)**k)*(x_input**k)/math.factorial(k)\n",
    "        # update sum to include new terms\n",
    "        updated_sum=updated_sum+summ\n",
    "        # add one to index and continue summation process until we reach our truncation limit\n",
    "        k+=1\n",
    "# once sum has reached the truncation, print the resulting approximation.      \n",
    "print(\"Truncating the series to \", N_trunc, \"terms, your approximation to exp[\",x_input,\"] is found to be \", updated_sum)"
   ]
  }
 ],
 "metadata": {
  "kernelspec": {
   "display_name": "Python 3",
   "language": "python",
   "name": "python3"
  },
  "language_info": {
   "codemirror_mode": {
    "name": "ipython",
    "version": 3
   },
   "file_extension": ".py",
   "mimetype": "text/x-python",
   "name": "python",
   "nbconvert_exporter": "python",
   "pygments_lexer": "ipython3",
   "version": "3.6.5"
  }
 },
 "nbformat": 4,
 "nbformat_minor": 2
}
