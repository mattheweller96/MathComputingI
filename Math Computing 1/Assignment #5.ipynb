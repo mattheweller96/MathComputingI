{
 "cells": [
  {
   "cell_type": "markdown",
   "metadata": {},
   "source": [
    "# Homework 5\n",
    "## Matthew Eller\n",
    "## Collaborator: Maggie Reed\n",
    "## Time (hours): 5"
   ]
  },
  {
   "cell_type": "markdown",
   "metadata": {},
   "source": [
    "### Exercise 14\n",
    "\n",
    "#### a) if you charge card with 5/10 ---> nothing extra\n",
    "#### b) 25 charge ---> 3 extra\n",
    "#### c) 50 charge ---> 8 extra\n",
    "#### d) 100 charge ---> 20 extra\n",
    "#### Write a function that takes the amount the user wants on the card and returns the total charge the user gets values other than those mentioned are not allowed"
   ]
  },
  {
   "cell_type": "code",
   "execution_count": 1,
   "metadata": {},
   "outputs": [
    {
     "name": "stdout",
     "output_type": "stream",
     "text": [
      "*International Calling Card Amount Program*\n",
      "Values allowed: 5$,10$,25$,50$,100$\n",
      "Please enter the amount you would like to charge on the card:5\n",
      "Your card of 5 gets a total charge limit of 5\n"
     ]
    }
   ],
   "source": [
    "#a) if you charge card with 5/10$ nothing extra\n",
    "#b) 25 charge gets 3 extra\n",
    "#c) 50 charge gets 8 extra\n",
    "#d) 100 charge gets 20 extra\n",
    "#write a function that takes the amount the user wants \n",
    "#on the card and returns the total charge the user gets\n",
    "#values other than those mentioned are not allowed\n",
    "\n",
    "print('*International Calling Card Amount Program*')\n",
    "print('Values allowed: $5, $10, $25, $50, $100')\n",
    "\n",
    "charge_value=int(input('Please enter the amount you would like to charge on the card:'))\n",
    "\n",
    "if ((charge_value == 5)or(charge_value == 10)or(charge_value == 25)or(charge_value == 50)or(charge_value == 100)):\n",
    "    if ((charge_value == 5)or(charge_value==10)):\n",
    "        print('Your card of',charge_value,'gets a total charge limit of',charge_value)\n",
    "        \n",
    "    elif (charge_value==25):\n",
    "        new_limit=charge_value+3\n",
    "        print('Your card of',charge_value,'gets a total charge limit of',new_limit)\n",
    "        \n",
    "    elif (charge_value==50):\n",
    "        new_limit=charge_value+8\n",
    "        print('Your card of',charge_value,'gets a total charge limit of',new_limit)\n",
    "        \n",
    "    else:\n",
    "        new_limit=charge_value+20\n",
    "        print('Your card of',charge_value,'gets a total charge limit of',new_limit)\n",
    "        \n",
    "        \n",
    "else:\n",
    "    print('You entered an amount not allowed or your amount has already been calculated. Please try again.')"
   ]
  },
  {
   "cell_type": "markdown",
   "metadata": {},
   "source": [
    "### Project 2\n",
    "\n",
    "#### DNA is represented by a string containing a base composed of ATCG. Substring matching is the process determining whether the shorter string is contained within a longer string. Python has find(substring,start,end) method that returns the lowest index where the substring is found in the index range start<index<end. If the substring is not found, it returns -1"
   ]
  },
  {
   "cell_type": "markdown",
   "metadata": {},
   "source": [
    "#### a) Without using the find string method, write a function that behaves like the string method. The string to search must be the first argument, so the function format is find(some_string, substring, start, end)"
   ]
  },
  {
   "cell_type": "code",
   "execution_count": 2,
   "metadata": {},
   "outputs": [
    {
     "name": "stdout",
     "output_type": "stream",
     "text": [
      "*DNA substrings without find() method*\n",
      "Please enter a DNA string:asdfasdf\n",
      "The base ATCG was not found in the DNA string given.\n"
     ]
    }
   ],
   "source": [
    "#1.prompt user to enter a DNA string\n",
    "#2.create the substring we are looking for as base ATCG\n",
    "#3.define the find function(userstring,substring)\n",
    "#3a.create an index of 0\n",
    "#3b.while this index is less than the length of the user string\n",
    "#3b.1.if the user string at the lendex through the length of the substring plus the index is the substring\n",
    "#3b.2.return the index since we found the substring\n",
    "#3b.3.else, increase the index by one and keep looking\n",
    "#3c.we did not find the substring so return -1\n",
    "\n",
    "print(\"DNA Substrings without the find() method\")\n",
    "\n",
    "DNA_sequence = input(\"Please enter a DNA string: \")\n",
    "substring=\"ATCG\"\n",
    "\n",
    "start=DNA_sequence[0]\n",
    "end=DNA_sequence[(len(DNA_sequence)-1)]\n",
    "\n",
    "def find(DNA_sequence,substring,start,end):\n",
    "    index=0\n",
    "    while index<len(DNA_sequence): #while the index is less than the length of the entered string\n",
    "        if DNA_sequence[index:(len(substring)+index)]==substring: #if the index of that string at interated index through the rest of the string is the substring\n",
    "            return index #we found the substring and can return its index\n",
    "        else:\n",
    "            index=index+1 #substring was not found yet, iterate the index and continue through the loop\n",
    "            continue\n",
    "    return -1 #we went through the entire string and did not find the substring so return -1\n",
    "\n",
    "\n",
    "ACTG_index=find(DNA_sequence,substring,start,end)\n",
    "\n",
    "if ACTG_index==-1:\n",
    "    print('The base ATCG was not found in the DNA string given.')\n",
    "else:\n",
    "    print('The base ATCG was found at index:',ACTG_index)"
   ]
  },
  {
   "cell_type": "markdown",
   "metadata": {},
   "source": [
    "#### b) Find all the locations where a substring is found. Write a function named multi_find (some_string,substring,start,end) that instead of returning one index, returns a string that contains zero or more indices seperated by commas. The string will contain digits that represent the indices. If the substring is not found, an empty string is returned."
   ]
  },
  {
   "cell_type": "code",
   "execution_count": 3,
   "metadata": {},
   "outputs": [
    {
     "name": "stdout",
     "output_type": "stream",
     "text": [
      "Finding all occurences of a DNA subsequence\n",
      "Please enter a DNA string: adfssdfgsdf\n",
      "The base ATCG was not found.\n"
     ]
    }
   ],
   "source": [
    "#1.prompt user to enter a DNA string\n",
    "#2.create the substring we are looking for as base ATCG\n",
    "#3.define the find function(userstring,substring)\n",
    "#3a.create an index of 0\n",
    "#3b.while this index is less than the length of the user string\n",
    "#3b.1.if the user string at the lendex through the length of the substring plus the index is the substring\n",
    "#3b.2.return the index since we found the substring\n",
    "#3b.3.else, increase the index by one and keep looking\n",
    "#3c.we did not find the substring so return -1\n",
    "#4.define the multifind function (user string, substring)\n",
    "#4a.set an index to 0\n",
    "#4b.create and empty string that stores the indices where the substring occurs\n",
    "#4c.for the index in range from 0 to the length of the user string\n",
    "#4c.1.if the user string at the index is equal to the substring at index 0\n",
    "#4c.2.the number of occurances of the substring is 0\n",
    "#4c.3.for count j in range from 0 to the length of the substring\n",
    "#4c.3.1.if the user string at (index+countj) is not equal to the substring at j\n",
    "#4c.3.2.the number of occurances of the substring is 0 and we break\n",
    "#4c.3.3.else add one to the number of occurances\n",
    "#4c.3.4.if the number of occarances is equal to the length of the substring\n",
    "#4c.3.5.store the index in our string with a comma seperation\n",
    "#4d.return the string of indices\n",
    "#5.if the find function returns a -1\n",
    "#6.tell the user that the substring was not found\n",
    "#7.else tell the user we found the substring at the string of indices\n",
    "\n",
    "print(\"Finding all occurences of a DNA subsequence\")\n",
    "\n",
    "DNA_sequence = input(\"Please enter a DNA string: \")\n",
    "substring=\"ATCG\"\n",
    "\n",
    "start=DNA_sequence[0]\n",
    "end=DNA_sequence[(len(DNA_sequence)-1)]\n",
    "\n",
    "def find(DNA_sequence,substring,start,end):\n",
    "    index=0\n",
    "    while index<len(DNA_sequence): #while the index is less than the length of the entered string\n",
    "        if DNA_sequence[index:(len(substring)+index)]==substring: #if the index of that string at interated index through the rest of the string is the substring\n",
    "            return index #we found the substring and can return its index\n",
    "        else:\n",
    "            index=index+1 #substring was not found yet, iterate the index and continue through the loop\n",
    "            continue\n",
    "    return -1 #we went through the entire string and did not find the substring so return -1\n",
    "\n",
    "def multi_find(DNA_sequence,substring,start,end):\n",
    "    i=0\n",
    "    string_occurs=\"\" #empty string to store the indices where the base occurs\n",
    "    \n",
    "    #first we check where we are in the userstring\n",
    "    for i in range(0,len(DNA_sequence)): #for an index in range of 0 through the length of the user string\n",
    "        if DNA_sequence[i]==substring[0]: #if the user string at the index is the substring at 0\n",
    "            sum_occ=0 #the number of indices iterated is 0\n",
    "            \n",
    "            #now we need to check if where we are in the userstring is the substring or not\n",
    "            for j in range(0,len(substring)): #for an index j in range from 0 to the length of the substring\n",
    "                if DNA_sequence[i+j] != substring[j]: #if the userstring at index i+j is not the substring at j\n",
    "                    sum_occ=0 #the number of indices iterated is 0\n",
    "                    break #the substring is not in this section! break and go back to the first for loop\n",
    "                else:\n",
    "                    sum_occ=sum_occ+1 #add one through the iterated indices\n",
    "                    if sum_occ==len(substring): #check if the iterated indices is equal to the length of the substring\n",
    "                        string_occurs=string_occurs+str(i)+',' #we found the substring, store the index in the string\n",
    "    return string_occurs\n",
    "\n",
    "\n",
    "if find(DNA_sequence,substring,start,end)==-1:\n",
    "    print('The base ATCG was not found.')\n",
    "else:\n",
    "    string_occurs=multi_find(DNA_sequence,substring,start,end)\n",
    "    print('The base ATCG was found at indices:',string_occurs)"
   ]
  },
  {
   "cell_type": "markdown",
   "metadata": {},
   "source": [
    "#### c) The multi_find function returns the boolean value of False if an empty string is returned, but the python find method does not do this; why? Write a program that uses find and multi_find functions using If statements (for boolean expressions) create some strings using only the base letters 'ATCG' and search for substrings within them."
   ]
  },
  {
   "cell_type": "code",
   "execution_count": 5,
   "metadata": {},
   "outputs": [
    {
     "name": "stdout",
     "output_type": "stream",
     "text": [
      "*Random DNA Generator and ATCG Base Search*\n",
      "This program generates a random DNA string using the base letters A,T,C, or G and searches for the base ATCG in the DNA string.\n",
      "Please enter the length of the DNA string from 1-30:20\n"
     ]
    },
    {
     "ename": "TypeError",
     "evalue": "find() missing 2 required positional arguments: 'start' and 'end'",
     "output_type": "error",
     "traceback": [
      "\u001b[1;31m---------------------------------------------------------------------------\u001b[0m",
      "\u001b[1;31mTypeError\u001b[0m                                 Traceback (most recent call last)",
      "\u001b[1;32m<ipython-input-5-79890ba6f68b>\u001b[0m in \u001b[0;36m<module>\u001b[1;34m()\u001b[0m\n\u001b[0;32m     38\u001b[0m     \u001b[1;32mreturn\u001b[0m \u001b[0mstring_occurs\u001b[0m\u001b[1;33m\u001b[0m\u001b[0m\n\u001b[0;32m     39\u001b[0m \u001b[1;33m\u001b[0m\u001b[0m\n\u001b[1;32m---> 40\u001b[1;33m \u001b[1;32mif\u001b[0m \u001b[0mfind\u001b[0m\u001b[1;33m(\u001b[0m\u001b[0mdna_string\u001b[0m\u001b[1;33m,\u001b[0m\u001b[0msubstring\u001b[0m\u001b[1;33m)\u001b[0m \u001b[1;33m==\u001b[0m \u001b[1;33m-\u001b[0m\u001b[1;36m1\u001b[0m\u001b[1;33m:\u001b[0m\u001b[1;33m\u001b[0m\u001b[0m\n\u001b[0m\u001b[0;32m     41\u001b[0m     \u001b[0mprint\u001b[0m\u001b[1;33m(\u001b[0m\u001b[1;34m'The base was not found in the generated DNA string:'\u001b[0m\u001b[1;33m,\u001b[0m\u001b[0mdna_string\u001b[0m\u001b[1;33m)\u001b[0m\u001b[1;33m\u001b[0m\u001b[0m\n\u001b[0;32m     42\u001b[0m \u001b[1;32melse\u001b[0m\u001b[1;33m:\u001b[0m\u001b[1;33m\u001b[0m\u001b[0m\n",
      "\u001b[1;31mTypeError\u001b[0m: find() missing 2 required positional arguments: 'start' and 'end'"
     ]
    }
   ],
   "source": [
    "#The multifind function returns a boolean value because it utilizes strings to \n",
    "#store the indices of substring occurance. It is checking multiple times and cannot use just one\n",
    "#value (-1) to say if it found the substring or not (since it uses strings to store). \n",
    "#using a boolean value allows it to use its string to store the indices and check if that string is\n",
    "#empty(not found, false) or not empty(found, true).\n",
    "\n",
    "#1.import the random module\n",
    "#2.ask the user to enter the length of the generated DNA string from 1 to 30 and store as the length of the string\n",
    "#3.set an index to 0\n",
    "#4.create an empty string that will become the dna sequence\n",
    "#5.create a sequence of letters in the base to choose from\n",
    "#6.while the index is less than the length of the string\n",
    "#6a.append the dna sequence string to itself plus the random function.choice(our sequence of base letters)\n",
    "#7.define the multifind function \n",
    "#8.if the find function returns -1 tell the user we did not find the base in the generated dna sequence\n",
    "#9.else call the multifind function and store the string of indices it returns\n",
    "#10.tell the user we found the base at the string of indices\n",
    "\n",
    "import random\n",
    "print('*Random DNA Generator and ATCG Base Search*')\n",
    "print('This program generates a random DNA string using the base letters A,T,C, or G and searches for the base ATCG in the DNA string.')\n",
    "length_rand = int(input('Please enter the length of the DNA string from 1-30:'))\n",
    "\n",
    "substring = \"ATCG\"\n",
    "dna_string = \"\"\n",
    "i=0\n",
    "choose_from = ['A','C','T','G']\n",
    "\n",
    "\n",
    "while i < length_rand:\n",
    "    dna_string = dna_string+random.choice(choose_from)\n",
    "    i=i+1\n",
    "\n",
    "def multi_find(dna_string,substring):\n",
    "    i=0\n",
    "    string_occurs=\"\" #empty string to store the indices where the base occurs\n",
    "    \n",
    "    #first we check where we are in the userstring\n",
    "    for i in range(0,len(dna_string)): #for an index in range of 0 through the length of the user string\n",
    "        if dna_string[i]==substring[0]: #if the user string at the index is the substring at 0\n",
    "            sum_occ=0 #the number of indices iterated is 0\n",
    "            \n",
    "            #now we need to check if where we are in the userstring is the substring or not\n",
    "            for j in range(0,len(substring)): #for an index j in range from 0 to the length of the substring\n",
    "                if dna_string[i+j] != substring[j]: #if the userstring at index i+j is not the substring at j\n",
    "                    sum_occ=0 #the number of indices iterated is 0\n",
    "                    break #the substring is not in this section! break and go back to the first for loop\n",
    "                else:\n",
    "                    sum_occ=sum_occ+1 #add one through the iterated indices\n",
    "                    if sum_occ==len(substring): #check if the iterated indices is equal to the length of the substring\n",
    "                        string_occurs=string_occurs+str(i)+',' #we found the substring, store the index in the string\n",
    "    return string_occurs\n",
    "\n",
    "if find(dna_string,substring) == -1:\n",
    "    print('The base was not found in the generated DNA string:',dna_string)\n",
    "    \n",
    "else:\n",
    "    dna_occurs=multi_find(dna_string,substring)\n",
    "    print('The base was found at indices:',dna_occurs,'in the generated DNA string:',dna_string)"
   ]
  },
  {
   "cell_type": "markdown",
   "metadata": {},
   "source": [
    "### Canvas Problem 3\n",
    "#### Write a function word_count that takes in one string and returns the number of words in that string. "
   ]
  },
  {
   "cell_type": "code",
   "execution_count": 6,
   "metadata": {},
   "outputs": [
    {
     "name": "stdout",
     "output_type": "stream",
     "text": [
      "Word Counter\n",
      "Please enter a sentence:asfd asg asgasdhs\n",
      "The number of words in your sentence is: 3\n"
     ]
    }
   ],
   "source": [
    "#1.prompt user for their sentence and store as a string\n",
    "#2.use split() to split the string by its spaces and store as a count\n",
    "#3.print the count to the user\n",
    "\n",
    "print(\"Word Counter\")\n",
    "\n",
    "sentence = input('Please enter a sentence:')\n",
    "\n",
    "num_words = len(sentence.split())\n",
    "print('The number of words in your sentence is:',num_words)"
   ]
  },
  {
   "cell_type": "markdown",
   "metadata": {},
   "source": [
    "### Canvas Problem 4\n",
    "#### Using Euclid's algorithm to write a function 'gcd' that takes two positive integers as input, and returns the greatest common divisor. Note: you have to write this function with your own code and cannot use the gcd function from the math module."
   ]
  },
  {
   "cell_type": "code",
   "execution_count": null,
   "metadata": {},
   "outputs": [],
   "source": [
    "#1. ask the user for the first integer and store as a\n",
    "#2. ask the user for the second dividing integer and store as b\n",
    "#3. function gcd(a,b) \n",
    "#3a.if the b is greater than a, return a\n",
    "#3b.calculate the remainder of a mod b\n",
    "#3c.if b is 1, return a\n",
    "#3d.if the remainder is 0 return b\n",
    "#3c.otherwise return the remainder\n",
    "#4.call the gcd function and store the integer gcd\n",
    "#5.return the gcd to the user\n",
    "\n",
    "print('*GCD Program: finds the greatest common divisor between two integers*')\n",
    "int_a = int(input('Please enter a integer number you want to divide:'))\n",
    "int_b = int(input('Please enter the dividing integer number:'))\n",
    "\n",
    "def gcd(int_a,int_b):\n",
    "    if int_b > int_a:\n",
    "        return (int_a)\n",
    "    \n",
    "    remainder = int_a % int_b\n",
    "    if int_b == 1:\n",
    "        return (int_a)\n",
    "    if remainder == 0:\n",
    "        return (int_b)\n",
    "    return (remainder)\n",
    "int_gcd = gcd(int_a,int_b)\n",
    "print('The greatest common divisor between',int_a,'and',int_b,'is:',int_gcd)"
   ]
  }
 ],
 "metadata": {
  "kernelspec": {
   "display_name": "Python 3",
   "language": "python",
   "name": "python3"
  },
  "language_info": {
   "codemirror_mode": {
    "name": "ipython",
    "version": 3
   },
   "file_extension": ".py",
   "mimetype": "text/x-python",
   "name": "python",
   "nbconvert_exporter": "python",
   "pygments_lexer": "ipython3",
   "version": "3.6.5"
  }
 },
 "nbformat": 4,
 "nbformat_minor": 2
}
