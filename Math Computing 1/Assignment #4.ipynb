{
 "cells": [
  {
   "cell_type": "markdown",
   "metadata": {},
   "source": [
    "# Homework 4\n",
    "## Matthew Eller\n",
    "## Collaborator: Maggie Reed\n",
    "## Time (hours): 4"
   ]
  },
  {
   "cell_type": "markdown",
   "metadata": {},
   "source": [
    "### Exercise 47\n",
    "\n",
    "#### Write a program that prompts the user to input a password and checks if the password is valid. If the password is valid, print a confirmation statement. If not, print a statement that it is invalid.\n"
   ]
  },
  {
   "cell_type": "code",
   "execution_count": 2,
   "metadata": {},
   "outputs": [
    {
     "name": "stdout",
     "output_type": "stream",
     "text": [
      "New account requires a password. Password must be between 6 and 20 characters and contain one lowercase letter, one uppercase letter, and one number.\n",
      "Please enter your password: Scoob7\n",
      "Password confirmation: Success!\n"
     ]
    }
   ],
   "source": [
    "# prompt user to enter a password to be screened\n",
    "# define check functions to return boolean expressions\n",
    "## define a checknumber function to search for digit in user input\n",
    "## define a checklength function to make sure length of user input is between 6 and 20 characters\n",
    "## define a checkuppercase and a checklowercase function to find upper and lower case characters in user input\n",
    "# combine the check functions and test the boolean value\n",
    "## if all check functions are true, accept password and print success statement\n",
    "## if at least one check function is false, print error message\n",
    "\n",
    "\n",
    "\n",
    "print(\"New account requires a password. Password must be between 6 and 20 characters and contain one lowercase letter, one uppercase letter, and one number.\")\n",
    "\n",
    "user_in=input(\"Please enter your password: \")\n",
    "\n",
    "def checknumber(user_in):\n",
    "    boolc=any(char.isdigit() for char in user_in)\n",
    "    return boolc\n",
    "\n",
    "def checklength(user_in):\n",
    "    if (len(user_in)<6) or (len(user_in)>20):\n",
    "        boolc=False\n",
    "    else:\n",
    "        boolc=True\n",
    "    return boolc\n",
    "\n",
    "def checkuppercase(user_in):\n",
    "    boolc=any(char.isupper() for char in user_in)\n",
    "    return boolc\n",
    "\n",
    "def checklowercase(user_in):\n",
    "    boolc=any(char.islower() for char in user_in)\n",
    "    return boolc\n",
    "\n",
    "boolnumber=checknumber(user_in)\n",
    "boollength=checklength(user_in)\n",
    "booluppercase=checkuppercase(user_in)\n",
    "boollowercase=checklowercase(user_in)\n",
    "\n",
    "\n",
    "if ((boolnumber and boollength) and (booluppercase and boollowercase)) == True:\n",
    "    print(\"Password confirmation: Success!\")\n",
    "\n",
    "else:\n",
    "    print(\"Invalid password type. Please make sure password entered meets requirements.\")\n"
   ]
  },
  {
   "cell_type": "markdown",
   "metadata": {},
   "source": [
    "### Project 3\n",
    "\n",
    "#### Write a program that repeatedly prompts for an English word to translate into Pig Latin and prints the translated word.\n",
    "#### If the user enters a period, halt the program."
   ]
  },
  {
   "cell_type": "code",
   "execution_count": 4,
   "metadata": {},
   "outputs": [
    {
     "name": "stdout",
     "output_type": "stream",
     "text": [
      "Welcome to the spectacular English to Pig Latin converter!\n",
      "Enter an English word to be translated. To stop, type '.'\n",
      "Please enter an English word to be translated: .\n",
      "Goodbye, or Oodgay yebay! :)\n"
     ]
    }
   ],
   "source": [
    "# prompt user to input word to be translated\n",
    "# define pig_latin as the string 'ay' to be appended to the finished translated word\n",
    "# start a while loop that exits once user inputs '.'\n",
    "# while the first letter in the word isn't a vowel, update word to send the first letter to the end\n",
    "# continue with the process of checking first letter to see if a vowel\n",
    "# once a vowel is reached, add the string pig_latin to end of word and print\n",
    "\n",
    "print(\"Welcome to the spectacular English to Pig Latin converter!\")\n",
    "print(\"Enter an English word to be translated. To stop, type '.'\")\n",
    "\n",
    "word=input(\"Please enter an English word to be translated: \")\n",
    "pig_latin=\"ay\"\n",
    "\n",
    "while word !=\".\":\n",
    "    while word[0] not in 'aeiou':\n",
    "        word=word[1:] + word[0:1]\n",
    "    else:\n",
    "        word=word+pig_latin\n",
    "        print(\"Your English word in Pig Latin is \", word)\n",
    "    word=input(\"Please enter another English word you wish to translate into Pig Latin: \")\n",
    "\n",
    "print(\"Goodbye, or Oodgay yebay! :)\")"
   ]
  },
  {
   "cell_type": "markdown",
   "metadata": {},
   "source": [
    "### Canvas Problem #3\n",
    "\n",
    "#### Write the algorithm and program that prompts for two words. Print the longer one in all capitals and capitalize the first letter of the second word. If the words are the same length then they should be processed in the order they were typed. "
   ]
  },
  {
   "cell_type": "code",
   "execution_count": 6,
   "metadata": {},
   "outputs": [
    {
     "name": "stdout",
     "output_type": "stream",
     "text": [
      "Please enter a word: scoob\n",
      "Please enter another word: vroom\n",
      "SCOOB Vroom\n"
     ]
    }
   ],
   "source": [
    "#prompt user for two word inputs\n",
    "# denote the length of both words as the len(word)\n",
    "# compare the lengths of the words\n",
    "# if the first is greater than or equal to the second, capitalize all the letters of the first and just the first letter of the second\n",
    "# if the first is strictly less than the second, capitalize all the letters of the second and just the first letter of the first word\n",
    "# print the resulting capitalized words\n",
    "\n",
    "\n",
    "word1=input(\"Please enter a word: \")\n",
    "word2=input(\"Please enter another word: \")\n",
    "\n",
    "length1=len(word1)\n",
    "length2=len(word2)\n",
    "\n",
    "if (length1>length2) or (length1==length2):\n",
    "    word1= word1[0:].upper()\n",
    "    word2=word2[0].upper()+word2[1:].lower()\n",
    "    print(word1, word2)\n",
    "    \n",
    "else:\n",
    "    word2=word[0:].upper\n",
    "    word1=word1[0].upper()+word1[1:].lower()\n",
    "    print(word1,word2)\n"
   ]
  },
  {
   "cell_type": "markdown",
   "metadata": {},
   "source": [
    "### Canvas Problem #4\n",
    "\n",
    "#### A Caesar cypher is a weak form of encryption that involves \"rotating\" each letter by a fixed number of places. To rotate a letter means to shift it through the alphabet, wrapping around to the beginning if necessary, so \"A\" rotated by 3 is \"D\", and \"B\" rotated by -2 is \"Z\". To rotate a word, rotate each letter by the same amount. For example, \"cheer\" rotated by 7 is \"jolly\" and \"melon\" rotated by -10 is \"cubed\". Write the algorithm and program that prompts for a word and an integer, then encrypts the word by rotating each letter by the input integer."
   ]
  },
  {
   "cell_type": "code",
   "execution_count": 4,
   "metadata": {},
   "outputs": [
    {
     "name": "stdout",
     "output_type": "stream",
     "text": [
      "Caesar cypher cryptogram generator\n",
      "\n",
      "Please enter the message you wish to encrypt: zoo\n",
      "\n",
      "Please enter the amount you wish to shift each letter in your message: 5\n",
      "\n",
      "Your original message,  zoo  shifted by  5 is encrypted as follows:\n"
     ]
    },
    {
     "data": {
      "text/plain": [
       "'ett'"
      ]
     },
     "execution_count": 4,
     "metadata": {},
     "output_type": "execute_result"
    }
   ],
   "source": [
    "# prompt for a message input and a shift to be applied to the message\n",
    "# define a cypher function that inputs the message and the shifting index as the variables\n",
    "## begin with new_message value to be updated in a for loop\n",
    "## apply the shift to each character in the original message\n",
    "## if the order of the new unicode character is greater than 26, loop back down in a manner similar to modular arithmetic\n",
    "## update new message to contain shifted letter\n",
    "## continue shifting process until entire message has been encrypted\n",
    "# after message has been encrypted, return message as output of cypher function\n",
    "\n",
    "\n",
    "print(\"Caesar cypher cryptogram generator\")\n",
    "\n",
    "print()\n",
    "message=input(\"Please enter the message you wish to encrypt: \")\n",
    "print()\n",
    "shift=int(input(\"Please enter the amount you wish to shift each letter in your message: \"))\n",
    "\n",
    "def cypher(message, shift):\n",
    "    new_message=\"\"\n",
    "    for ch in message:\n",
    "        unicodenew=ord(ch)+shift\n",
    "        if unicodenew>ord('z'):\n",
    "            unicodenew -=26\n",
    "        charenew=chr(unicodenew)\n",
    "        new_message +=charenew\n",
    "    print()\n",
    "    print(\"Your original message, \", message, \" shifted by \", shift, \"is encrypted as follows:\")\n",
    "    \n",
    "    return new_message\n",
    "\n",
    "cypher(message, shift)"
   ]
  },
  {
   "cell_type": "code",
   "execution_count": null,
   "metadata": {},
   "outputs": [],
   "source": []
  }
 ],
 "metadata": {
  "kernelspec": {
   "display_name": "Python 3",
   "language": "python",
   "name": "python3"
  },
  "language_info": {
   "codemirror_mode": {
    "name": "ipython",
    "version": 3
   },
   "file_extension": ".py",
   "mimetype": "text/x-python",
   "name": "python",
   "nbconvert_exporter": "python",
   "pygments_lexer": "ipython3",
   "version": "3.6.5"
  }
 },
 "nbformat": 4,
 "nbformat_minor": 2
}
