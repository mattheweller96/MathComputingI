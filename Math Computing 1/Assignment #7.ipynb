{
 "cells": [
  {
   "cell_type": "markdown",
   "metadata": {},
   "source": [
    "# Homework 7\n",
    "## Matthew Eller\n",
    "## Collaborator: Maggie Reed\n",
    "## Time (hours): 7 hours\n",
    "### Citation: https://stackoverflow.com/questions/29977637/python-create-dictionary-from-file"
   ]
  },
  {
   "cell_type": "markdown",
   "metadata": {},
   "source": [
    "#### Exercise 15\n",
    "#### Write a function that takes a person's first and last name as input and...\n",
    "#### a) uses lists to return a list of the common letters of first/last (intersection)\n",
    "#### b) uses sets to return a set that is the intersection of first/last\n",
    "#### c) uses sets to return a set that is the symmetric difference between first/last"
   ]
  },
  {
   "cell_type": "code",
   "execution_count": 4,
   "metadata": {},
   "outputs": [
    {
     "name": "stdout",
     "output_type": "stream",
     "text": [
      "Please enter your first name:matthew\n",
      "Please enter your last name:eller\n",
      "The letters your first and last name havein common is: ['e']\n"
     ]
    }
   ],
   "source": [
    "# Approach a) using lists\n",
    "\n",
    "#1. store two strings as first and last name input from the user\n",
    "#2. change the two strings into a list \n",
    "#3. define a function commonlet(firstlist, lastlist) \n",
    "#4. the intersect is a value for the value in the first name if the value is in the last name also\n",
    "#5. return the intersect value\n",
    "#6. call the function and pass the first and last name lists and print the return\n",
    "\n",
    "first_str = input('Please enter your first name:' )\n",
    "last_str = input('Please enter your last name:' )\n",
    "first_list = list(first_str)\n",
    "last_list = list(last_str)\n",
    "\n",
    "def commonlet(first_list, last_list):\n",
    "    intersect = [value for value in first_list if value in last_list]\n",
    "    \n",
    "    return intersect\n",
    "\n",
    "print(\"The letters your first and last name have in common is:\", commonlet(first_list, last_list))"
   ]
  },
  {
   "cell_type": "code",
   "execution_count": 1,
   "metadata": {},
   "outputs": [
    {
     "name": "stdout",
     "output_type": "stream",
     "text": [
      "Please enter your first name:matthew\n",
      "Please enter your last name:eller\n",
      "The letters your first and last name have in common is: {'e'}\n"
     ]
    }
   ],
   "source": [
    "# Approach b) using sets\n",
    "\n",
    "#1. store the first and last names as two strings from user input\n",
    "#2. change the two strings to be lists\n",
    "#3. define a function commonset(first list, last list)\n",
    "#4. make the list of the first and last names sets and find their commons by using &\n",
    "#5. return the common set\n",
    "#6. call the function and pass the first and last names and print\n",
    "\n",
    "first_str = input('Please enter your first name:')\n",
    "last_str = input('Please enter your last name:')\n",
    "\n",
    "first_list = list(first_str)\n",
    "last_list = list(last_str)\n",
    "\n",
    "def commonset(first_list, last_list):\n",
    "    return (set(first_str) & set(last_str))\n",
    "\n",
    "print(\"The letters your first and last name have in common is:\", commonset(first_str,last_str))"
   ]
  },
  {
   "cell_type": "code",
   "execution_count": 2,
   "metadata": {},
   "outputs": [
    {
     "name": "stdout",
     "output_type": "stream",
     "text": [
      "Please enter your first name:matthew\n",
      "Please enter your last name:eller\n",
      "{'t', 'w', 'a', 'h', 'l', 'r', 'm'}\n"
     ]
    }
   ],
   "source": [
    "# Approach c) using symmetric difference\n",
    "\n",
    "#1. make two sets, first and last names, from user input\n",
    "#2. define a function symset (first set, last set)\n",
    "#3. define a variable symmetdif as the first set function symettric diff of the second set\n",
    "#4. call the function and pass the two sets, and print the returned symmetric difference\n",
    "first_set = set(input('Please enter your first name:'))\n",
    "last_set = set(input('Please enter your last name:'))\n",
    "\n",
    "def symset(first_set,last_set):\n",
    "    symmetdif = first_set.symmetric_difference(last_set)\n",
    "    \n",
    "    return symmetdif\n",
    "\n",
    "print(symset(first_set,last_set))"
   ]
  },
  {
   "cell_type": "markdown",
   "metadata": {},
   "source": [
    "#### Exercise 31\n",
    "#### 50 worst cars ever made. create a dict with keys:manufacturer and value: a tuple of (year,model). Some cases don't have a model. Then, write a function to find the company that has made the most worst cars."
   ]
  },
  {
   "cell_type": "code",
   "execution_count": 5,
   "metadata": {},
   "outputs": [
    {
     "name": "stdout",
     "output_type": "stream",
     "text": [
      "{'Horsey': [['(1899)'], 'Horseless'], 'Ford': [['(1909)'], 'Model T', ['(1958)'], 'Edsel', ['(1971)'], 'Pinto', ['(1995)'], 'Explorer', ['(2000)'], 'Excursion'], 'Overland': [['(1911)'], 'OctoAuto'], 'Scripps-Booth': [['(1913)'], 'Bi-Autogo'], 'Briggs': [['(1920)'], 'and Stratton Flyer'], 'Fuller': [['(1933)'], 'Dymaxion'], 'Chrysler/Desoto': [['(1934)'], 'Airflow'], 'Crosley': [['(1949)'], 'Hotshot'], 'Renault': [['(1956)'], 'Dauphine'], 'King': [['(1957)'], 'Midget Model III'], 'Waterman': [['(1957)'], 'Aerobile'], 'Lotus': [['(1958)'], 'Elite'], 'MGA': [['(1958)'], 'Twin Cam'], 'Zunndapp': [['(1958)'], 'Janus'], 'Amphicar': [['(1961)'], ''], 'Corvair': [['(1961)'], ''], 'Peel': [['(1966)'], 'Trident'], 'AMC': [['(1970)'], 'Gremlin', ['(1978)'], 'Pacer'], 'Triumph': [['(1970)'], 'Stag', ['(1975)'], 'TR7'], 'Chrysler': [['(1971)'], 'Imperial LeBaron Two-Door Hardtop'], 'Jaguar': [['(1974)'], 'XK-E V12 Series III', ['(2001)'], 'X-Type'], 'Bricklin': [['(1975)'], 'SV1'], 'Morgan': [['(1975)'], 'Plus 8 Propane'], 'Trabant': [['(1975)'], ''], 'Aston': [['(1976)'], 'Martin Lagonda'], 'Chevy': [['(1976)'], 'Chevette', ['(2004)'], 'SSR'], 'Corvette': [['(1980)'], '305 \"California\"'], 'Ferrari': [['(1980)'], 'Mondial 8'], 'Cadillac': [['(1981)'], 'Fleetwood V-8-6-4', ['(1982)'], 'Cimarron'], 'De': [['(1981)'], 'Lorean DMC-12'], 'Camaro': [['(1982)'], 'Iron Duke'], 'Maserati': [['(1984)'], 'Biturbo'], 'Mosler': [['(1985)'], 'Consulier GTP'], 'Yugo': [['(1985)'], 'GV'], 'Lamborghini': [['(1986)'], 'LM002'], 'GM': [['(1997)'], 'EV1'], 'Plymouth': [['(1997)'], 'Prowler'], 'Fiat': [['(1998)'], 'Multipla'], 'Pontiac': [['(2001)'], 'Aztek'], 'BMW': [['(2002)'], '7-series'], 'Hummer': [['(2003)'], 'H2']}\n",
      "\n",
      "The manufacturer with the most terrible cars is: ('Ford', [['(1909)'], 'Model T', ['(1958)'], 'Edsel', ['(1971)'], 'Pinto', ['(1995)'], 'Explorer', ['(2000)'], 'Excursion'])\n"
     ]
    }
   ],
   "source": [
    "#1. use with open the text file as file so it closes after its done\n",
    "#2. assign cars to a empty list\n",
    "#3. for each line in the file\n",
    "#4. the elements are each line and seperated by spaces\n",
    "#5. if the length of the element is 0, its an empty line and we can skip\n",
    "#6. save the year as the last element in the line\n",
    "#7. the manufacturer is the first element in the line\n",
    "#8. everything else is the model\n",
    "#9. get rid of spaces in the rest part by joining them\n",
    "#10.set the car dictionary with key manufacturer to get the manufacturer value and append the year and rest in a tuple\n",
    "#11.print out the dictionary\n",
    "#12.to get the worst car manufacturer:\n",
    "#12.1 find the maxiumum length of the list of tuples corresponding to a key\n",
    "#12.2.return\n",
    "\n",
    "from collections import defaultdict #get a defaultdict so I dont have to initialize a dictionary manually\n",
    "\n",
    "with open('worstcars.txt') as file: #open as a file using with so it closes after it reads\n",
    "    \n",
    "    cars = {} #assign cars to the dictionary list\n",
    "    \n",
    "    for line in file: \n",
    "        elements = line.strip().split() #get each index element\n",
    "        \n",
    "        if len(elements) == 0:\n",
    "            continue\n",
    "            \n",
    "        year = elements[-1:] #for the list element, save as year\n",
    "        \n",
    "        manufacturer = elements[0] #for the first element, save as manufacturer\n",
    "        \n",
    "        rest = elements[1:-1] #everything else is the make of the car\n",
    "        rest = ' '.join(rest) #get rid of spaces\n",
    "        \n",
    "        cars[manufacturer] = (cars.get(manufacturer,[]) + [year,rest]) #for the cars dict, manufacturer list is the keys, append the year and make as a tuple for the value\n",
    "    print(cars)\n",
    "    \n",
    "    #cars.items is the keys and tuples from the dictionary cars\n",
    "    #to get the maxiumum (longest) from items, we want to take the length of the car tuples\n",
    "    #x is the tuple, x at index 1 is the list of car tuples\n",
    "    #so our length of the list of tuples corresponds to the key of the car \n",
    "    #we save the longest tuple list that correspond to the most common key (car)\n",
    "   \n",
    "    worst = max(cars.items(), key = lambda x: len(x[1]))\n",
    "    \n",
    "    print('\\nThe manufacturer with the most terrible cars is:', worst)"
   ]
  },
  {
   "cell_type": "markdown",
   "metadata": {},
   "source": [
    "#### Canvas Problem 3\n",
    "#### A polynomial function can be represented as a dictionary in Python by using the exponents as keys and the corresponding nonzero coefficient as the associated value. Terms having zero coefficients are not included. For example, LaTeX: 3x^6-2x^5+6x^2-3 3 x 6 − 2 x 5 + 6 x 2 − 3  is {6:3, 5:-2, 2:6, 0:-3}. Write a function derivative(polynomial) to find the derivative of a polynomial. The input polynomial is a dictionary representing a polynomial. And the function should return a dictionary representing the derivative of the input polynomial. For example, let's revisit the previous example, derivative({6:3, 5:-2, 2:6, 0:-3}) should return {5:18, 4:-10, 1:12} which represents LaTeX: 18x^5-10x^4+12x 18 x 5 − 10 x 4 + 12 x ."
   ]
  },
  {
   "cell_type": "code",
   "execution_count": 6,
   "metadata": {},
   "outputs": [
    {
     "name": "stdout",
     "output_type": "stream",
     "text": [
      "please enter the coefficiant of first place polynomial:30\n",
      "please enter the power of the first place polynomial:3\n",
      "please enter the coefficiant of the second polynomial:40\n",
      "please enter the power of the second polynomial:2\n",
      "please enter the coefficiant of the third polynomial:10\n",
      "please enter the power of the third polynomial:1\n",
      "{2: 90, 1: 80, 0: 10}\n"
     ]
    }
   ],
   "source": [
    "#1. store three coefficiants and three powers for the three polynomials from user input\n",
    "#2. define a dictionary with the power as the key and coefficiant as the value\n",
    "#3. define a function derivative(previous_dictionary)\n",
    "#4. the new power is the old power -1, store\n",
    "#5. store the new coefficiant as the old coefficiant times the old power, store\n",
    "#6. create a dictionary with the new power as the key and the new coefficiant as the value\n",
    "#7. print the new dictionary\n",
    "#8. pass the previous dictionary to the function\n",
    "\n",
    "a_coeff = int(input('please enter the coefficiant of first place polynomial:'))\n",
    "a_power = int(input('please enter the power of the first place polynomial:'))\n",
    "\n",
    "b_coeff = int(input('please enter the coefficiant of the second polynomial:'))\n",
    "b_power = int(input('please enter the power of the second polynomial:'))\n",
    "\n",
    "c_coeff = int(input('please enter the coefficiant of the third polynomial:'))\n",
    "c_power = int(input('please enter the power of the third polynomial:'))\n",
    "\n",
    "previous_dict = {a_power:a_coeff, b_power:b_coeff, c_power:c_coeff}\n",
    "\n",
    "def derivative(previous_dict):\n",
    "    da_power = (a_power-1)\n",
    "    da_coeff = (previous_dict.get(a_power)*a_power)\n",
    "    \n",
    "    db_power = (b_power-1)\n",
    "    db_coeff = (previous_dict.get(b_power)*b_power)\n",
    "    \n",
    "    dc_power = (c_power-1)\n",
    "    dc_coeff = (previous_dict.get(c_power)*c_power)\n",
    "    \n",
    "    new_dict = {da_power:da_coeff, db_power:db_coeff, dc_power:dc_coeff}\n",
    "    \n",
    "    print(new_dict)\n",
    "    \n",
    "    return\n",
    "\n",
    "derivative(previous_dict)"
   ]
  },
  {
   "cell_type": "code",
   "execution_count": null,
   "metadata": {},
   "outputs": [],
   "source": []
  }
 ],
 "metadata": {
  "kernelspec": {
   "display_name": "Python 3",
   "language": "python",
   "name": "python3"
  },
  "language_info": {
   "codemirror_mode": {
    "name": "ipython",
    "version": 3
   },
   "file_extension": ".py",
   "mimetype": "text/x-python",
   "name": "python",
   "nbconvert_exporter": "python",
   "pygments_lexer": "ipython3",
   "version": "3.6.5"
  }
 },
 "nbformat": 4,
 "nbformat_minor": 2
}
