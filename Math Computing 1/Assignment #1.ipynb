{
 "cells": [
  {
   "cell_type": "markdown",
   "metadata": {},
   "source": [
    "# Homework 1\n",
    "## Matthew Eller\n",
    "## Time (hours): 3"
   ]
  },
  {
   "cell_type": "markdown",
   "metadata": {},
   "source": [
    "\n",
    "### 1.31\n",
    "#### A day has 86,400 sec (24 hours x 60 minutes x 60 seconds). Given a number in the range 1-86,400, output the current time as hours, minutes, and seconds within a 24-hour clock."
   ]
  },
  {
   "cell_type": "code",
   "execution_count": null,
   "metadata": {},
   "outputs": [],
   "source": [
    "seconds_str = input(\"Enter a time in seconds within the bracket 1-85,400\")\n",
    "seconds_inp = int(seconds_str)\n",
    "\n",
    "hours = seconds_inp // 3600\n",
    "minutes = (seconds_inp % 3600) // 60\n",
    "seconds = seconds_inp % 60\n",
    "\n",
    "## Above yields the whole number of hours, minutes, and seconds per day.\n",
    "## The input number is divided by 3600 to find the hours. Then, the remainder is divided by 60 to yield the total number of\n",
    "## minutes. Finally, we take the remainder of the input divided by 60 to give us our total number of seconds.\n",
    "\n",
    "print(\"The current time is\", hours, \"hours,\", minutes, \"minutes, and\", seconds, \"seconds.\")"
   ]
  },
  {
   "cell_type": "markdown",
   "metadata": {},
   "source": [
    "### 1.38\n",
    "\n",
    "#### Find a module that you can input that will generate today's date so you can print it."
   ]
  },
  {
   "cell_type": "code",
   "execution_count": null,
   "metadata": {},
   "outputs": [],
   "source": [
    "import time\n",
    "print(\"Today's date is:\", time.strftime(\"%d/%m/%Y\"))\n",
    "\n",
    "## The time module was uploaded to be able to print the current date."
   ]
  },
  {
   "cell_type": "markdown",
   "metadata": {},
   "source": [
    "### Project 1.4\n",
    "\n",
    "#### Write a program that takes years as input (integer form) and outputs estimated population. Take the current population to be 307,357,870. Consider 1 year to be 365 days. Also, assume the rates of population change as 1 birth per 7 seconds, 1 death per 13 seconds, and 1 new immigrant per 35 seconds."
   ]
  },
  {
   "cell_type": "code",
   "execution_count": null,
   "metadata": {},
   "outputs": [],
   "source": [
    "year_str = input(\"Enter the year:\")\n",
    "year_int = int(year_str)\n",
    "\n",
    "c = 60*60*24*365\n",
    "pop = 307357870\n",
    "population = int(pop + year_int*(c/35 + c/7 - c/13))\n",
    "\n",
    "## As the input is given in years and our population rates of change were given in seconds, a conversion factor c was defined.\n",
    "## The current population is given by taking the starting population and multiplying the rates of change by the number of years\n",
    "## past the given starting time.\n",
    "\n",
    "print(\"The current population for the year\", year_int, \"is:\", population)"
   ]
  },
  {
   "cell_type": "markdown",
   "metadata": {},
   "source": [
    "### Canvas problem 1\n",
    "\n",
    "#### Write a program that asks you to input the lengths of 3 sides of a triangle, and returns the three angles of the triangle in degrees."
   ]
  },
  {
   "cell_type": "code",
   "execution_count": null,
   "metadata": {},
   "outputs": [],
   "source": [
    "import math\n",
    "\n",
    "a_str = input(\"Enter the side length A:\")\n",
    "b_str = input(\"Enter the side length B:\")\n",
    "c_str = input(\"Enter the side length C:\")\n",
    "\n",
    "a_flt = float(a_str)\n",
    "b_flt = float(b_str)\n",
    "c_flt = float(c_str)\n",
    "\n",
    "## Above, the three side lengths of a triangle are input.\n",
    "\n",
    "angleA = math.acos((-1/(2*b_flt*c_flt))*(a_flt**2 - b_flt**2 - c_flt**2))\n",
    "angleB = math.acos((-1/(2*a_flt*c_flt))*(b_flt**2 - a_flt**2 - c_flt**2))\n",
    "angleC = math.acos((-1/(2*a_flt*b_flt))*(c_flt**2 - a_flt**2 - b_flt**2))\n",
    "\n",
    "## I utilized the law of cosines to solve for the angle for an associated side length.\n",
    "\n",
    "print(\"The angle across from side A is:\", math.degrees(angleA))\n",
    "print(\"The angle across from side B is:\", math.degrees(angleB))\n",
    "print(\"The angle across from side C is:\", math.degrees(angleC))\n",
    "\n",
    "## The printed angle is returned in degrees."
   ]
  },
  {
   "cell_type": "markdown",
   "metadata": {},
   "source": [
    "### Canvas problem 2\n",
    "\n",
    "#### Write a program that prompts you to input a decimal number (base 10) between 1 and 100, and returns a binary number (base 2) that is equal to the input. "
   ]
  },
  {
   "cell_type": "code",
   "execution_count": null,
   "metadata": {},
   "outputs": [],
   "source": [
    "import math\n",
    "\n",
    "g_str = input(\"Enter a decimal number between 1 and 100:\")\n",
    "g_int = int(g_str)\n",
    "\n",
    "## The user is prompted to input an integer between 1 and 100.\n",
    "\n",
    "g_binary = bin(g_int)\n",
    "\n",
    "## The bin function converts the integer input into its binary equivalent. \n",
    "\n",
    "print(\"The number\", g_int, \"in base 10 is equal to\", g_binary, \"in base 2.\")\n"
   ]
  }
 ],
 "metadata": {
  "kernelspec": {
   "display_name": "Python 3",
   "language": "python",
   "name": "python3"
  },
  "language_info": {
   "codemirror_mode": {
    "name": "ipython",
    "version": 3
   },
   "file_extension": ".py",
   "mimetype": "text/x-python",
   "name": "python",
   "nbconvert_exporter": "python",
   "pygments_lexer": "ipython3",
   "version": "3.6.5"
  }
 },
 "nbformat": 4,
 "nbformat_minor": 2
}
